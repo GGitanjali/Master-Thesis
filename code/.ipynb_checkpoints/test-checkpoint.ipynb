{
 "cells": [
  {
   "cell_type": "code",
   "execution_count": 17,
   "id": "024dde75-b89c-42e2-b5f4-35070a9aba12",
   "metadata": {},
   "outputs": [],
   "source": [
    "import matplotlib.pyplot as plt\n",
    "import numpy as np\n",
    "from intrinsic_gaussians import instrinsic_gaussians\n",
    "from transmission import plot_transmission_curves\n",
    "\n",
    "def combined_plot():\n",
    "    # Transmission curve\n",
    "    row_number = int(input(\"Enter Row Number : \"))# Example row number; change as needed\n",
    "    x_transmission, y_transmission = plot_transmission_curves()\n",
    "\n",
    "    v_separation = float(input(\"Velocity separation (v_separation): \"))\n",
    "    sigma = float(input(\"Sigma (width): \"))\n",
    "    asymmetry = float(input(\"Asymmetry (0 to 1): \"))\n",
    "    velocity_min = float(input(\"Minimum velocity for plot range: \"))\n",
    "    velocity_max = float(input(\"Maximum velocity for plot range: \"))\n",
    "    num_points_velocity = int(input(\"Number of points to compute in the range: \"))\n",
    "\n",
    "    # Generate velocity range\n",
    "    velocity = np.linspace(velocity_min, velocity_max, num_points_velocity)\n",
    "\n",
    "    # Multiply the curves\n",
    "    y_combined = y_transmission * y_gaussian\n",
    "\n",
    "    # Plot all curves\n",
    "    plt.figure(figsize=(10, 6))\n",
    "    plt.plot(x_transmission, y_transmission, label=\"Transmission Curves\", color=\"blue\")\n",
    "    plt.plot(x_gaussian, y_gaussian, label=\"Intrinsic Gaussians\", color=\"green\")\n",
    "    plt.plot(x_transmission, y_combined, label=\"Combined Curve\", color=\"red\", linestyle=\"--\")\n",
    "    plt.xlabel(\"Velocity\")\n",
    "    plt.ylabel(\"Intensity\")\n",
    "    plt.title(\"Combined Plot of Transmission Curves and Intrinsic Gaussians\")\n",
    "    plt.legend()\n",
    "    plt.grid()\n",
    "    plt.show()\n"
   ]
  },
  {
   "cell_type": "code",
   "execution_count": 18,
   "id": "0c3f8ac9-6ae3-4fd9-ad88-4614bc3d4269",
   "metadata": {},
   "outputs": [
    {
     "name": "stdin",
     "output_type": "stream",
     "text": [
      "Enter Row Number :  5\n"
     ]
    },
    {
     "ename": "TypeError",
     "evalue": "plot_transmission_curves() takes 0 positional arguments but 1 was given",
     "output_type": "error",
     "traceback": [
      "\u001b[1;31m---------------------------------------------------------------------------\u001b[0m",
      "\u001b[1;31mTypeError\u001b[0m                                 Traceback (most recent call last)",
      "Cell \u001b[1;32mIn[18], line 1\u001b[0m\n\u001b[1;32m----> 1\u001b[0m \u001b[43mcombined_plot\u001b[49m\u001b[43m(\u001b[49m\u001b[43m)\u001b[49m\n",
      "Cell \u001b[1;32mIn[17], line 9\u001b[0m, in \u001b[0;36mcombined_plot\u001b[1;34m()\u001b[0m\n\u001b[0;32m      6\u001b[0m \u001b[38;5;28;01mdef\u001b[39;00m \u001b[38;5;21mcombined_plot\u001b[39m():\n\u001b[0;32m      7\u001b[0m     \u001b[38;5;66;03m# Transmission curve\u001b[39;00m\n\u001b[0;32m      8\u001b[0m     row_number \u001b[38;5;241m=\u001b[39m \u001b[38;5;28mint\u001b[39m(\u001b[38;5;28minput\u001b[39m(\u001b[38;5;124m\"\u001b[39m\u001b[38;5;124mEnter Row Number : \u001b[39m\u001b[38;5;124m\"\u001b[39m))\u001b[38;5;66;03m# Example row number; change as needed\u001b[39;00m\n\u001b[1;32m----> 9\u001b[0m     x_transmission, y_transmission \u001b[38;5;241m=\u001b[39m \u001b[43mplot_transmission_curves\u001b[49m\u001b[43m(\u001b[49m\u001b[43mrow_number\u001b[49m\u001b[43m)\u001b[49m\n\u001b[0;32m     11\u001b[0m     v_separation \u001b[38;5;241m=\u001b[39m \u001b[38;5;28mfloat\u001b[39m(\u001b[38;5;28minput\u001b[39m(\u001b[38;5;124m\"\u001b[39m\u001b[38;5;124mVelocity separation (v_separation): \u001b[39m\u001b[38;5;124m\"\u001b[39m))\n\u001b[0;32m     12\u001b[0m     sigma \u001b[38;5;241m=\u001b[39m \u001b[38;5;28mfloat\u001b[39m(\u001b[38;5;28minput\u001b[39m(\u001b[38;5;124m\"\u001b[39m\u001b[38;5;124mSigma (width): \u001b[39m\u001b[38;5;124m\"\u001b[39m))\n",
      "\u001b[1;31mTypeError\u001b[0m: plot_transmission_curves() takes 0 positional arguments but 1 was given"
     ]
    }
   ],
   "source": [
    "combined_plot()"
   ]
  },
  {
   "cell_type": "code",
   "execution_count": null,
   "id": "546c7629-a821-4e19-a07b-c1c41ea48c8e",
   "metadata": {},
   "outputs": [],
   "source": []
  }
 ],
 "metadata": {
  "kernelspec": {
   "display_name": "Python 3 (ipykernel)",
   "language": "python",
   "name": "python3"
  },
  "language_info": {
   "codemirror_mode": {
    "name": "ipython",
    "version": 3
   },
   "file_extension": ".py",
   "mimetype": "text/x-python",
   "name": "python",
   "nbconvert_exporter": "python",
   "pygments_lexer": "ipython3",
   "version": "3.11.8"
  }
 },
 "nbformat": 4,
 "nbformat_minor": 5
}

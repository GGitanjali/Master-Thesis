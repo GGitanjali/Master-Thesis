{
 "cells": [
  {
   "cell_type": "code",
   "execution_count": 3,
   "id": "1a11c2d1-fa28-4782-9705-b8dd68df67b3",
   "metadata": {
    "tags": []
   },
   "outputs": [
    {
     "name": "stdout",
     "output_type": "stream",
     "text": [
      "Converted Output/text1.txt to file_A.csv\n",
      "Converted Output/text2.txt to file_B.csv\n"
     ]
    }
   ],
   "source": [
    "import csv\n",
    "\n",
    "def text_to_csv(text_file_path, csv_file_path):\n",
    "    # Read numbers from the text file\n",
    "    with open(text_file_path, 'r') as text_file:\n",
    "        # Read the first line, split by whitespace (space, tab)\n",
    "        line = text_file.readline().strip()\n",
    "        numbers = line.split()  # Change this to line.split('\\t') for tab-separated\n",
    "\n",
    "    # Write the numbers to a CSV file\n",
    "    with open(csv_file_path, 'w', newline='') as csv_file:\n",
    "        writer = csv.writer(csv_file)\n",
    "        writer.writerow(numbers)  # Write as a single row\n",
    "\n",
    "# Define paths to your files\n",
    "text_file_path_A = 'Output/text1.txt'  # Replace with your file path\n",
    "csv_file_path_A = 'file_A.csv'             # Desired CSV file name\n",
    "\n",
    "text_file_path_B = 'Output/text2.txt'  # Replace with your file path\n",
    "csv_file_path_B = 'file_B.csv'             # Desired CSV file name\n",
    "\n",
    "# Convert text files to CSV\n",
    "text_to_csv(text_file_path_A, csv_file_path_A)\n",
    "text_to_csv(text_file_path_B, csv_file_path_B)\n",
    "\n",
    "print(f'Converted {text_file_path_A} to {csv_file_path_A}')\n",
    "print(f'Converted {text_file_path_B} to {csv_file_path_B}')\n"
   ]
  },
  {
   "cell_type": "code",
   "execution_count": null,
   "id": "d11da250-2a53-4141-878d-519467ebe425",
   "metadata": {},
   "outputs": [],
   "source": []
  }
 ],
 "metadata": {
  "kernelspec": {
   "display_name": "Python 3 (ipykernel)",
   "language": "python",
   "name": "python3"
  },
  "language_info": {
   "codemirror_mode": {
    "name": "ipython",
    "version": 3
   },
   "file_extension": ".py",
   "mimetype": "text/x-python",
   "name": "python",
   "nbconvert_exporter": "python",
   "pygments_lexer": "ipython3",
   "version": "3.11.8"
  }
 },
 "nbformat": 4,
 "nbformat_minor": 5
}

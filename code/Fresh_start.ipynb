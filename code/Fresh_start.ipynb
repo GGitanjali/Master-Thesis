{
 "cells": [
  {
   "cell_type": "code",
   "execution_count": null,
   "id": "02590393-710d-4d12-beb1-cf8b66a995d2",
   "metadata": {},
   "outputs": [],
   "source": [
    "import numpy as np\n",
    "import matplotlib.pyplot as plt\n",
    "\n",
    "\n",
    "file_path = 'D:/Master-Thesis/21cmFAST-master/Output/Tot_Tau_lists/output'\n",
    "\n",
    "\n",
    "with open(file_path, 'r') as file:\n",
    "    lines = file.readlines()    \n",
    "    matrix = []\n",
    "    for line in lines[2:]: \n",
    "        columns = list(map(float, line.strip().split()[:5]))  \n",
    "        matrix.append(columns)\n",
    "\n",
    "matrix = np.array(matrix)\n",
    "\n",
    "\n",
    "def plot_transmission_curves(row_number):\n",
    "    with open(file_path, 'r') as file:\n",
    "        lines = file.readlines()\n",
    "        row1 = list(map(float, lines[0].strip().split()[5:])) #this is special for the first row(x-axis)\n",
    "        row = list(map(float, lines[row_number].strip().split()[5:]))\n",
    "    \n",
    "    \n",
    "    x_values_1 = np.array(row1[::2])  #this is special for the first row\n",
    "    y_values = np.exp(-np.array(row)) #transmission\n",
    "    \n",
    "    \n",
    "    return x_values_1, y_values"
   ]
  },
  {
   "cell_type": "code",
   "execution_count": null,
   "id": "a7206b94-2a06-4c23-bb95-25525e65c8c0",
   "metadata": {},
   "outputs": [],
   "source": [
    "def gaussian(velocity, delta_v, sigma, amplitude=1):\n",
    "    return amplitude * np.exp(-0.5 * ((velocity - delta_v) / sigma)**2)\n",
    "\n",
    "def two_gaussians_with_asymmetry(velocity, v_offset, sigma, l_red_l_total):\n",
    "    l_red = l_red_l_total\n",
    "    l_blue = 1 - l_red\n",
    "\n",
    "    # First Gaussian (blueshifted)\n",
    "    gaussian_blue = gaussian(velocity, -v_offset / 2, sigma, amplitude=l_blue)\n",
    "\n",
    "    # Second Gaussian (redshifted)\n",
    "    gaussian_red = gaussian(velocity, v_offset / 2, sigma, amplitude=l_red)\n",
    "\n",
    "    # Combining them\n",
    "    return gaussian_blue + gaussian_red\n"
   ]
  }
 ],
 "metadata": {
  "kernelspec": {
   "display_name": "Python 3 (ipykernel)",
   "language": "python",
   "name": "python3"
  },
  "language_info": {
   "codemirror_mode": {
    "name": "ipython",
    "version": 3
   },
   "file_extension": ".py",
   "mimetype": "text/x-python",
   "name": "python",
   "nbconvert_exporter": "python",
   "pygments_lexer": "ipython3",
   "version": "3.11.8"
  }
 },
 "nbformat": 4,
 "nbformat_minor": 5
}

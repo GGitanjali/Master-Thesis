{
 "cells": [
  {
   "cell_type": "code",
   "execution_count": 8,
   "id": "ddf908b4-d1f7-49c4-86df-011b8e1bd5ab",
   "metadata": {},
   "outputs": [
    {
     "ename": "AttributeError",
     "evalue": "'int' object has no attribute 'append'",
     "output_type": "error",
     "traceback": [
      "\u001b[1;31m---------------------------------------------------------------------------\u001b[0m",
      "\u001b[1;31mAttributeError\u001b[0m                            Traceback (most recent call last)",
      "Cell \u001b[1;32mIn[8], line 23\u001b[0m\n\u001b[0;32m     20\u001b[0m \u001b[38;5;28;01mfor\u001b[39;00m line \u001b[38;5;129;01min\u001b[39;00m lines[\u001b[38;5;241m1\u001b[39m:]:\n\u001b[0;32m     21\u001b[0m     \u001b[38;5;66;03m# Split the line into columns\u001b[39;00m\n\u001b[0;32m     22\u001b[0m     columns \u001b[38;5;241m=\u001b[39m line\u001b[38;5;241m.\u001b[39mstrip()\u001b[38;5;241m.\u001b[39msplit()\n\u001b[1;32m---> 23\u001b[0m     \u001b[43mname_index\u001b[49m\u001b[38;5;241;43m.\u001b[39;49m\u001b[43mappend\u001b[49m(\u001b[38;5;28mfloat\u001b[39m(columns[header\u001b[38;5;241m.\u001b[39mindex(\u001b[38;5;124m'\u001b[39m\u001b[38;5;124mname_index\u001b[39m\u001b[38;5;124m'\u001b[39m)]))\n\u001b[0;32m     25\u001b[0m     \u001b[38;5;66;03m# Check if the line has enough columns\u001b[39;00m\n\u001b[0;32m     26\u001b[0m     \u001b[38;5;28;01mif\u001b[39;00m \u001b[38;5;28mlen\u001b[39m(columns) \u001b[38;5;241m>\u001b[39m name_index:\n\u001b[0;32m     27\u001b[0m         \u001b[38;5;66;03m# Print the value from the \"Name\" column\u001b[39;00m\n",
      "\u001b[1;31mAttributeError\u001b[0m: 'int' object has no attribute 'append'"
     ]
    }
   ],
   "source": [
    "import matplotlib.pyplot as plt\n",
    "import numpy as np\n",
    "\n",
    "#extracting data\n",
    "with open('D:/Thesis/LASD/measurements/zsysdf.ascii', 'r') as file:\n",
    "    lines = file.readlines()\n",
    "    \n",
    "    \n",
    "# Extract the header from the first line\n",
    "header = lines[0].strip().split()\n",
    "\n",
    "# Find the index of the \"Name\" column\n",
    "try:\n",
    "    name_index = header.index(\"W_neg_std\")\n",
    "except ValueError:\n",
    "    print(\"The column 'Name' was not found in the file.\")\n",
    "    exit()\n",
    "\n",
    "# Loop through the remaining lines to print the \"Name\" column\n",
    "for line in lines[1:]:\n",
    "    # Split the line into columns\n",
    "    columns = line.strip().split()\n",
    "    \n",
    "    # Check if the line has enough columns\n",
    "    if len(columns) > name_index:\n",
    "        # Print the value from the \"Name\" column\n",
    "        print(columns[name_index])\n"
   ]
  },
  {
   "cell_type": "code",
   "execution_count": 3,
   "id": "4e28144f-9e86-4821-afb6-3be537f36015",
   "metadata": {},
   "outputs": [
    {
     "name": "stdout",
     "output_type": "stream",
     "text": [
      "139\n"
     ]
    }
   ],
   "source": [
    "print(len(columns))"
   ]
  },
  {
   "cell_type": "code",
   "execution_count": null,
   "id": "93c6c8e2-35f6-4dfb-8f1c-5133e2ff8457",
   "metadata": {},
   "outputs": [],
   "source": []
  }
 ],
 "metadata": {
  "kernelspec": {
   "display_name": "Python 3 (ipykernel)",
   "language": "python",
   "name": "python3"
  },
  "language_info": {
   "codemirror_mode": {
    "name": "ipython",
    "version": 3
   },
   "file_extension": ".py",
   "mimetype": "text/x-python",
   "name": "python",
   "nbconvert_exporter": "python",
   "pygments_lexer": "ipython3",
   "version": "3.11.8"
  }
 },
 "nbformat": 4,
 "nbformat_minor": 5
}

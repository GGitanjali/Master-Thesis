{
 "cells": [
  {
   "cell_type": "code",
   "execution_count": 1,
   "id": "e300a65b-af2a-4bcf-901f-926b5f296a92",
   "metadata": {
    "tags": []
   },
   "outputs": [
    {
     "name": "stdout",
     "output_type": "stream",
     "text": [
      "CSV content has been successfully saved to output.txt.\n"
     ]
    }
   ],
   "source": [
    "import csv\n",
    "\n",
    "# Define file paths\n",
    "csv_file_path = 'taudamp_z008.00_nf0.62378_1000_300Mpc_master_bubnoadded.csv'  # Replace with your CSV file path\n",
    "txt_file_path = 'output.txt'  # The path where you want to save the text file\n",
    "\n",
    "# Open the CSV file and read its contents\n",
    "with open(csv_file_path, mode='r') as csv_file:\n",
    "    csv_reader = csv.reader(csv_file)\n",
    "    \n",
    "    # Open the text file in write mode\n",
    "    with open(txt_file_path, mode='w') as txt_file:\n",
    "        for row in csv_reader:\n",
    "            # Join each row into a single string with commas and write to the text file\n",
    "            txt_file.write(', '.join(row) + '\\n')\n",
    "\n",
    "print(f\"CSV content has been successfully saved to {txt_file_path}.\")\n"
   ]
  },
  {
   "cell_type": "code",
   "execution_count": 2,
   "id": "6d90cc4c-7243-4b4f-81f7-f8d0586dbcf2",
   "metadata": {
    "tags": []
   },
   "outputs": [
    {
     "name": "stdout",
     "output_type": "stream",
     "text": [
      "CSV file has been successfully converted and saved as output_formatted.txt.\n"
     ]
    }
   ],
   "source": [
    "import csv\n",
    "\n",
    "# Define file paths\n",
    "csv_file_path = 'taudamp_z008.00_nf0.62378_1000_300Mpc_master_bubnoadded.csv'  # Replace with your actual CSV file path\n",
    "output_file_path = 'output_formatted.txt'  # Define the desired output file path\n",
    "\n",
    "# Open the CSV file and convert it to a tab-separated text file with scientific notation\n",
    "with open(csv_file_path, mode='r') as csv_file:\n",
    "    csv_reader = csv.reader(csv_file)\n",
    "    \n",
    "    with open(output_file_path, mode='w') as txt_file:\n",
    "        for row in csv_reader:\n",
    "            # Convert each element to scientific notation (if it's a number) and join with tabs\n",
    "            formatted_row = \"\\t\".join(\n",
    "                f\"{float(value):.6e}\" if value.replace('.', '', 1).isdigit() else value\n",
    "                for value in row\n",
    "            )\n",
    "            txt_file.write(formatted_row + '\\n')\n",
    "\n",
    "print(f\"CSV file has been successfully converted and saved as {output_file_path}.\")\n"
   ]
  },
  {
   "cell_type": "code",
   "execution_count": null,
   "id": "618fdca8-731e-48ed-9f9b-9f80d9088b35",
   "metadata": {},
   "outputs": [],
   "source": []
  }
 ],
 "metadata": {
  "kernelspec": {
   "display_name": "Python 3 (ipykernel)",
   "language": "python",
   "name": "python3"
  },
  "language_info": {
   "codemirror_mode": {
    "name": "ipython",
    "version": 3
   },
   "file_extension": ".py",
   "mimetype": "text/x-python",
   "name": "python",
   "nbconvert_exporter": "python",
   "pygments_lexer": "ipython3",
   "version": "3.11.8"
  }
 },
 "nbformat": 4,
 "nbformat_minor": 5
}
